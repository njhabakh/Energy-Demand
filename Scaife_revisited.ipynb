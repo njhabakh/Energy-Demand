{
 "cells": [
  {
   "cell_type": "markdown",
   "metadata": {},
   "source": [
    "#Energy Demand and Utilization: \n",
    "##Scaife Hall Lighting Replacement:\n",
    "This Code is part of the Energy Demans and Utilization class Project. The following have been implemented:\n",
    "1. Finding the Total Lighting Consumption\n",
    "2. Finding the Average Daily hrs of Lighting Consumption\n",
    "3. Producing Interactive Plots of Lighting for the various sensing points\n",
    "\n",
    "###Importing libraries:"
   ]
  },
  {
   "cell_type": "code",
   "execution_count": 65,
   "metadata": {
    "collapsed": true
   },
   "outputs": [],
   "source": [
    "import numpy as np\n",
    "from datetime import datetime\n",
    "import os\n",
    "import csv\n",
    "import pandas as pd\n",
    "import matplotlib.pyplot as plt\n",
    "import matplotlib\n",
    "matplotlib.style.use('ggplot')\n",
    "%matplotlib inline"
   ]
  },
  {
   "cell_type": "markdown",
   "metadata": {},
   "source": [
    "### Setting the path to the directory containg the csv files:"
   ]
  },
  {
   "cell_type": "code",
   "execution_count": 3,
   "metadata": {
    "collapsed": false
   },
   "outputs": [
    {
     "name": "stdout",
     "output_type": "stream",
     "text": [
      "\u001b[31m2015-02-23.csv\u001b[m\u001b[m* 2015-02-25.csv  \u001b[31m2015-02-27.csv\u001b[m\u001b[m* \u001b[31m2015-03-01.csv\u001b[m\u001b[m*\r\n",
      "2015-02-24.csv  \u001b[31m2015-02-26.csv\u001b[m\u001b[m* \u001b[31m2015-02-28.csv\u001b[m\u001b[m*\r\n"
     ]
    }
   ],
   "source": [
    "# Data_path = 'The name of the folder where the data-sets are stored'\n",
    "Data_path = '2015_enfuse/Feb_15/'\n",
    "%ls $Data_path"
   ]
  },
  {
   "cell_type": "code",
   "execution_count": 4,
   "metadata": {
    "collapsed": true
   },
   "outputs": [],
   "source": [
    "csv_files = os.listdir(Data_path)"
   ]
  },
  {
   "cell_type": "markdown",
   "metadata": {},
   "source": [
    "### Function to Import the data and merge them into a Data-frame:"
   ]
  },
  {
   "cell_type": "code",
   "execution_count": 5,
   "metadata": {
    "collapsed": true
   },
   "outputs": [],
   "source": [
    "def get_data(path,filename):\n",
    "    df=pd.read_csv(path+'/'+filename)  \n",
    "    return df[['BranchName','BreakerPosition','DateStamp','AvgWatt']]    "
   ]
  },
  {
   "cell_type": "code",
   "execution_count": 6,
   "metadata": {
    "collapsed": false
   },
   "outputs": [],
   "source": [
    "frames=[];\n",
    "for i in csv_files:\n",
    "    frames.append(get_data(Data_path,i))\n",
    "merged=pd.concat(frames)"
   ]
  },
  {
   "cell_type": "code",
   "execution_count": 7,
   "metadata": {
    "collapsed": false
   },
   "outputs": [
    {
     "data": {
      "text/html": [
       "<div>\n",
       "<table border=\"1\" class=\"dataframe\">\n",
       "  <thead>\n",
       "    <tr style=\"text-align: right;\">\n",
       "      <th></th>\n",
       "      <th>BranchName</th>\n",
       "      <th>BreakerPosition</th>\n",
       "      <th>DateStamp</th>\n",
       "      <th>AvgWatt</th>\n",
       "    </tr>\n",
       "  </thead>\n",
       "  <tbody>\n",
       "    <tr>\n",
       "      <th>0</th>\n",
       "      <td>Rm 311 Copier</td>\n",
       "      <td>1</td>\n",
       "      <td>2/23/2015 12:00:00 AM</td>\n",
       "      <td>0</td>\n",
       "    </tr>\n",
       "    <tr>\n",
       "      <th>1</th>\n",
       "      <td>Lts. Rm 305, 307</td>\n",
       "      <td>3</td>\n",
       "      <td>2/23/2015 12:00:00 AM</td>\n",
       "      <td>0</td>\n",
       "    </tr>\n",
       "    <tr>\n",
       "      <th>2</th>\n",
       "      <td>Lts. Rm 304, 306 &amp; Hall</td>\n",
       "      <td>5</td>\n",
       "      <td>2/23/2015 12:00:00 AM</td>\n",
       "      <td>0</td>\n",
       "    </tr>\n",
       "    <tr>\n",
       "      <th>3</th>\n",
       "      <td>Lts. 312, 313</td>\n",
       "      <td>6</td>\n",
       "      <td>2/23/2015 12:00:00 AM</td>\n",
       "      <td>60</td>\n",
       "    </tr>\n",
       "    <tr>\n",
       "      <th>4</th>\n",
       "      <td>Lts. Rm 318</td>\n",
       "      <td>7</td>\n",
       "      <td>2/23/2015 12:00:00 AM</td>\n",
       "      <td>0</td>\n",
       "    </tr>\n",
       "  </tbody>\n",
       "</table>\n",
       "</div>"
      ],
      "text/plain": [
       "                BranchName  BreakerPosition              DateStamp  AvgWatt\n",
       "0            Rm 311 Copier                1  2/23/2015 12:00:00 AM        0\n",
       "1         Lts. Rm 305, 307                3  2/23/2015 12:00:00 AM        0\n",
       "2  Lts. Rm 304, 306 & Hall                5  2/23/2015 12:00:00 AM        0\n",
       "3            Lts. 312, 313                6  2/23/2015 12:00:00 AM       60\n",
       "4              Lts. Rm 318                7  2/23/2015 12:00:00 AM        0"
      ]
     },
     "execution_count": 7,
     "metadata": {},
     "output_type": "execute_result"
    }
   ],
   "source": [
    "merged.head()"
   ]
  },
  {
   "cell_type": "markdown",
   "metadata": {},
   "source": [
    "### Creating a column in the frame with the Branch Name and Panel ID for unique sensing points:\n",
    "This is done since there are common sensing points for different Breaker positions. For example *2nd Floor Lighting* is measured by four different sensing points. Merging the BreakerPositions solves this.\n",
    "\n",
    "\n",
    "\n"
   ]
  },
  {
   "cell_type": "code",
   "execution_count": 8,
   "metadata": {
    "collapsed": true
   },
   "outputs": [],
   "source": [
    "final=[]\n",
    "def edit_data(final):\n",
    "    final['timestamp']=pd.to_datetime(final['DateStamp'])\n",
    "    final['Branch-Panel']= final['BranchName'].str.cat(final['BreakerPosition'].values.astype(str), sep=' - ')\n",
    "    return final"
   ]
  },
  {
   "cell_type": "code",
   "execution_count": 9,
   "metadata": {
    "collapsed": true
   },
   "outputs": [],
   "source": [
    "final=edit_data(merged)"
   ]
  },
  {
   "cell_type": "code",
   "execution_count": 10,
   "metadata": {
    "collapsed": false
   },
   "outputs": [
    {
     "data": {
      "text/html": [
       "<div>\n",
       "<table border=\"1\" class=\"dataframe\">\n",
       "  <thead>\n",
       "    <tr style=\"text-align: right;\">\n",
       "      <th></th>\n",
       "      <th>BranchName</th>\n",
       "      <th>BreakerPosition</th>\n",
       "      <th>DateStamp</th>\n",
       "      <th>AvgWatt</th>\n",
       "      <th>timestamp</th>\n",
       "      <th>Branch-Panel</th>\n",
       "    </tr>\n",
       "  </thead>\n",
       "  <tbody>\n",
       "    <tr>\n",
       "      <th>0</th>\n",
       "      <td>Rm 311 Copier</td>\n",
       "      <td>1</td>\n",
       "      <td>2/23/2015 12:00:00 AM</td>\n",
       "      <td>0</td>\n",
       "      <td>2015-02-23</td>\n",
       "      <td>Rm 311 Copier - 1</td>\n",
       "    </tr>\n",
       "    <tr>\n",
       "      <th>1</th>\n",
       "      <td>Lts. Rm 305, 307</td>\n",
       "      <td>3</td>\n",
       "      <td>2/23/2015 12:00:00 AM</td>\n",
       "      <td>0</td>\n",
       "      <td>2015-02-23</td>\n",
       "      <td>Lts. Rm 305, 307 - 3</td>\n",
       "    </tr>\n",
       "    <tr>\n",
       "      <th>2</th>\n",
       "      <td>Lts. Rm 304, 306 &amp; Hall</td>\n",
       "      <td>5</td>\n",
       "      <td>2/23/2015 12:00:00 AM</td>\n",
       "      <td>0</td>\n",
       "      <td>2015-02-23</td>\n",
       "      <td>Lts. Rm 304, 306 &amp; Hall - 5</td>\n",
       "    </tr>\n",
       "    <tr>\n",
       "      <th>3</th>\n",
       "      <td>Lts. 312, 313</td>\n",
       "      <td>6</td>\n",
       "      <td>2/23/2015 12:00:00 AM</td>\n",
       "      <td>60</td>\n",
       "      <td>2015-02-23</td>\n",
       "      <td>Lts. 312, 313 - 6</td>\n",
       "    </tr>\n",
       "    <tr>\n",
       "      <th>4</th>\n",
       "      <td>Lts. Rm 318</td>\n",
       "      <td>7</td>\n",
       "      <td>2/23/2015 12:00:00 AM</td>\n",
       "      <td>0</td>\n",
       "      <td>2015-02-23</td>\n",
       "      <td>Lts. Rm 318 - 7</td>\n",
       "    </tr>\n",
       "  </tbody>\n",
       "</table>\n",
       "</div>"
      ],
      "text/plain": [
       "                BranchName  BreakerPosition              DateStamp  AvgWatt  \\\n",
       "0            Rm 311 Copier                1  2/23/2015 12:00:00 AM        0   \n",
       "1         Lts. Rm 305, 307                3  2/23/2015 12:00:00 AM        0   \n",
       "2  Lts. Rm 304, 306 & Hall                5  2/23/2015 12:00:00 AM        0   \n",
       "3            Lts. 312, 313                6  2/23/2015 12:00:00 AM       60   \n",
       "4              Lts. Rm 318                7  2/23/2015 12:00:00 AM        0   \n",
       "\n",
       "   timestamp                 Branch-Panel  \n",
       "0 2015-02-23            Rm 311 Copier - 1  \n",
       "1 2015-02-23         Lts. Rm 305, 307 - 3  \n",
       "2 2015-02-23  Lts. Rm 304, 306 & Hall - 5  \n",
       "3 2015-02-23            Lts. 312, 313 - 6  \n",
       "4 2015-02-23              Lts. Rm 318 - 7  "
      ]
     },
     "execution_count": 10,
     "metadata": {},
     "output_type": "execute_result"
    }
   ],
   "source": [
    "final.head()"
   ]
  },
  {
   "cell_type": "markdown",
   "metadata": {},
   "source": [
    "###Separating the points that Sense Light:\n",
    "These labels have either Lights or Lts. in them after inspecting all the unique labels in the dataset."
   ]
  },
  {
   "cell_type": "code",
   "execution_count": 11,
   "metadata": {
    "collapsed": false
   },
   "outputs": [
    {
     "data": {
      "text/plain": [
       "206"
      ]
     },
     "execution_count": 11,
     "metadata": {},
     "output_type": "execute_result"
    }
   ],
   "source": [
    "u=final['Branch-Panel'].unique()\n",
    "len(u)"
   ]
  },
  {
   "cell_type": "code",
   "execution_count": 12,
   "metadata": {
    "collapsed": true
   },
   "outputs": [],
   "source": [
    "k1=np.array([i for i, s in enumerate(u) if 'Lts' in s])\n",
    "k2=np.array([i for i, s in enumerate(u) if 'Light' in s])\n",
    "k3=np.hstack((k1,k2))"
   ]
  },
  {
   "cell_type": "markdown",
   "metadata": {},
   "source": [
    "### List of all the sensing points that measure the Lighting:"
   ]
  },
  {
   "cell_type": "code",
   "execution_count": 67,
   "metadata": {
    "collapsed": false
   },
   "outputs": [
    {
     "data": {
      "text/plain": [
       "array(['Lts. Rm 305, 307 - 3', 'Lts. Rm 304, 306 & Hall - 5',\n",
       "       'Lts. 312, 313 - 6', 'Lts. Rm 318 - 7', 'Lts. 314, 315 - 8',\n",
       "       'Lts. Rm 301 - 9', 'Lts Rm 316 - 10', 'Lts Rm 303 - 11',\n",
       "       \"Lts. Women's Rest Rm. - 13\", 'Lts. Cor. 319 - 14',\n",
       "       'Lts. Stairway - 22', 'Lts. Rm 4003, 404 - 1', 'Lts. Rm. 426 - 2',\n",
       "       'Lts. Rm 402 - 3', 'Lts. Rm 401 - 5', 'Lts. Rm 406 - 7',\n",
       "       'Lts. Rm 408 - 9', 'Emergency Lts. - 18', 'Restroom Lts. - 23',\n",
       "       '404 Lts. - 28', 'Lights Stairway - 21', 'Lights 317 - 24',\n",
       "       'Lights Penthouse - 29', 'Lights Penthouse - 31',\n",
       "       'Lecture Hall 400W Metal ? Lights - 1', 'Rear House Lights - 2',\n",
       "       'Lecture Hall 400W Metal ? Lights - 3',\n",
       "       'Lecture Hall 400W Metal ? Lights - 5', 'Projection Rm Lights - 13',\n",
       "       'Lobby Lights - 19', 'Canopy Lights - 21', 'Cove Lights Lobby - 23',\n",
       "       'Light ctrl. 110-114 - 24', 'Lobby Bathroom Lights - 17',\n",
       "       '4th Floor Lighting - 1', '4th Floor Lights - 2',\n",
       "       '4th Floor Lighting - 3', '4th Floor Lighting - 5',\n",
       "       'Penthouse Lights - 6', '2nd Floor Lighting - 13',\n",
       "       '2nd Floor Lighting - 15', '2nd Floor Lighting - 17',\n",
       "       '2nd Floor Lighting - 18', 'Elevator Lights - 33'], dtype=object)"
      ]
     },
     "execution_count": 67,
     "metadata": {},
     "output_type": "execute_result"
    }
   ],
   "source": [
    "u[k3]"
   ]
  },
  {
   "cell_type": "markdown",
   "metadata": {},
   "source": [
    "### Creating a new Data-rame with the Light sensing points:"
   ]
  },
  {
   "cell_type": "code",
   "execution_count": 14,
   "metadata": {
    "collapsed": true
   },
   "outputs": [],
   "source": [
    "group=final.groupby(['Branch-Panel'])"
   ]
  },
  {
   "cell_type": "code",
   "execution_count": 15,
   "metadata": {
    "collapsed": true
   },
   "outputs": [],
   "source": [
    "light=pd.DataFrame(index=group.get_group(u[0]).timestamp)"
   ]
  },
  {
   "cell_type": "code",
   "execution_count": 16,
   "metadata": {
    "collapsed": false
   },
   "outputs": [
    {
     "data": {
      "text/html": [
       "<div>\n",
       "<table border=\"1\" class=\"dataframe\">\n",
       "  <thead>\n",
       "    <tr style=\"text-align: right;\">\n",
       "      <th></th>\n",
       "    </tr>\n",
       "    <tr>\n",
       "      <th>timestamp</th>\n",
       "    </tr>\n",
       "  </thead>\n",
       "  <tbody>\n",
       "    <tr>\n",
       "      <th>2015-02-23 00:00:00</th>\n",
       "    </tr>\n",
       "    <tr>\n",
       "      <th>2015-02-23 00:01:00</th>\n",
       "    </tr>\n",
       "    <tr>\n",
       "      <th>2015-02-23 00:02:00</th>\n",
       "    </tr>\n",
       "    <tr>\n",
       "      <th>2015-02-23 00:03:00</th>\n",
       "    </tr>\n",
       "    <tr>\n",
       "      <th>2015-02-23 00:04:00</th>\n",
       "    </tr>\n",
       "  </tbody>\n",
       "</table>\n",
       "</div>"
      ],
      "text/plain": [
       "Empty DataFrame\n",
       "Columns: []\n",
       "Index: [2015-02-23 00:00:00, 2015-02-23 00:01:00, 2015-02-23 00:02:00, 2015-02-23 00:03:00, 2015-02-23 00:04:00]"
      ]
     },
     "execution_count": 16,
     "metadata": {},
     "output_type": "execute_result"
    }
   ],
   "source": [
    "light.head()"
   ]
  },
  {
   "cell_type": "code",
   "execution_count": 17,
   "metadata": {
    "collapsed": false
   },
   "outputs": [],
   "source": [
    "for i in u[k3]:\n",
    "    k=group.get_group(i).AvgWatt\n",
    "    k.set_axis(0,labels=group.get_group(i).timestamp)\n",
    "    light[i]=k"
   ]
  },
  {
   "cell_type": "code",
   "execution_count": 18,
   "metadata": {
    "collapsed": false
   },
   "outputs": [
    {
     "data": {
      "text/html": [
       "<div>\n",
       "<table border=\"1\" class=\"dataframe\">\n",
       "  <thead>\n",
       "    <tr style=\"text-align: right;\">\n",
       "      <th></th>\n",
       "      <th>Lts. Rm 305, 307 - 3</th>\n",
       "      <th>Lts. Rm 304, 306 &amp; Hall - 5</th>\n",
       "      <th>Lts. 312, 313 - 6</th>\n",
       "      <th>Lts. Rm 318 - 7</th>\n",
       "      <th>Lts. 314, 315 - 8</th>\n",
       "      <th>Lts. Rm 301 - 9</th>\n",
       "      <th>Lts Rm 316 - 10</th>\n",
       "      <th>Lts Rm 303 - 11</th>\n",
       "      <th>Lts. Women's Rest Rm. - 13</th>\n",
       "      <th>Lts. Cor. 319 - 14</th>\n",
       "      <th>...</th>\n",
       "      <th>4th Floor Lighting - 1</th>\n",
       "      <th>4th Floor Lights - 2</th>\n",
       "      <th>4th Floor Lighting - 3</th>\n",
       "      <th>4th Floor Lighting - 5</th>\n",
       "      <th>Penthouse Lights - 6</th>\n",
       "      <th>2nd Floor Lighting - 13</th>\n",
       "      <th>2nd Floor Lighting - 15</th>\n",
       "      <th>2nd Floor Lighting - 17</th>\n",
       "      <th>2nd Floor Lighting - 18</th>\n",
       "      <th>Elevator Lights - 33</th>\n",
       "    </tr>\n",
       "    <tr>\n",
       "      <th>timestamp</th>\n",
       "      <th></th>\n",
       "      <th></th>\n",
       "      <th></th>\n",
       "      <th></th>\n",
       "      <th></th>\n",
       "      <th></th>\n",
       "      <th></th>\n",
       "      <th></th>\n",
       "      <th></th>\n",
       "      <th></th>\n",
       "      <th></th>\n",
       "      <th></th>\n",
       "      <th></th>\n",
       "      <th></th>\n",
       "      <th></th>\n",
       "      <th></th>\n",
       "      <th></th>\n",
       "      <th></th>\n",
       "      <th></th>\n",
       "      <th></th>\n",
       "      <th></th>\n",
       "    </tr>\n",
       "  </thead>\n",
       "  <tbody>\n",
       "    <tr>\n",
       "      <th>2015-02-23 00:00:00</th>\n",
       "      <td>0</td>\n",
       "      <td>0</td>\n",
       "      <td>60</td>\n",
       "      <td>0</td>\n",
       "      <td>48</td>\n",
       "      <td>0</td>\n",
       "      <td>0</td>\n",
       "      <td>72</td>\n",
       "      <td>0</td>\n",
       "      <td>0</td>\n",
       "      <td>...</td>\n",
       "      <td>0</td>\n",
       "      <td>0</td>\n",
       "      <td>0</td>\n",
       "      <td>1310</td>\n",
       "      <td>132</td>\n",
       "      <td>0</td>\n",
       "      <td>33</td>\n",
       "      <td>0</td>\n",
       "      <td>912</td>\n",
       "      <td>0</td>\n",
       "    </tr>\n",
       "    <tr>\n",
       "      <th>2015-02-23 00:01:00</th>\n",
       "      <td>0</td>\n",
       "      <td>0</td>\n",
       "      <td>60</td>\n",
       "      <td>0</td>\n",
       "      <td>48</td>\n",
       "      <td>0</td>\n",
       "      <td>0</td>\n",
       "      <td>72</td>\n",
       "      <td>0</td>\n",
       "      <td>0</td>\n",
       "      <td>...</td>\n",
       "      <td>0</td>\n",
       "      <td>0</td>\n",
       "      <td>0</td>\n",
       "      <td>1314</td>\n",
       "      <td>132</td>\n",
       "      <td>0</td>\n",
       "      <td>0</td>\n",
       "      <td>0</td>\n",
       "      <td>918</td>\n",
       "      <td>0</td>\n",
       "    </tr>\n",
       "    <tr>\n",
       "      <th>2015-02-23 00:02:00</th>\n",
       "      <td>0</td>\n",
       "      <td>0</td>\n",
       "      <td>60</td>\n",
       "      <td>0</td>\n",
       "      <td>48</td>\n",
       "      <td>0</td>\n",
       "      <td>0</td>\n",
       "      <td>72</td>\n",
       "      <td>0</td>\n",
       "      <td>0</td>\n",
       "      <td>...</td>\n",
       "      <td>0</td>\n",
       "      <td>0</td>\n",
       "      <td>0</td>\n",
       "      <td>1320</td>\n",
       "      <td>132</td>\n",
       "      <td>0</td>\n",
       "      <td>172</td>\n",
       "      <td>0</td>\n",
       "      <td>924</td>\n",
       "      <td>0</td>\n",
       "    </tr>\n",
       "    <tr>\n",
       "      <th>2015-02-23 00:03:00</th>\n",
       "      <td>0</td>\n",
       "      <td>0</td>\n",
       "      <td>60</td>\n",
       "      <td>0</td>\n",
       "      <td>48</td>\n",
       "      <td>0</td>\n",
       "      <td>0</td>\n",
       "      <td>72</td>\n",
       "      <td>0</td>\n",
       "      <td>0</td>\n",
       "      <td>...</td>\n",
       "      <td>0</td>\n",
       "      <td>0</td>\n",
       "      <td>0</td>\n",
       "      <td>1320</td>\n",
       "      <td>132</td>\n",
       "      <td>0</td>\n",
       "      <td>0</td>\n",
       "      <td>0</td>\n",
       "      <td>924</td>\n",
       "      <td>0</td>\n",
       "    </tr>\n",
       "    <tr>\n",
       "      <th>2015-02-23 00:04:00</th>\n",
       "      <td>0</td>\n",
       "      <td>0</td>\n",
       "      <td>60</td>\n",
       "      <td>0</td>\n",
       "      <td>48</td>\n",
       "      <td>0</td>\n",
       "      <td>0</td>\n",
       "      <td>72</td>\n",
       "      <td>0</td>\n",
       "      <td>0</td>\n",
       "      <td>...</td>\n",
       "      <td>0</td>\n",
       "      <td>0</td>\n",
       "      <td>0</td>\n",
       "      <td>1320</td>\n",
       "      <td>132</td>\n",
       "      <td>0</td>\n",
       "      <td>0</td>\n",
       "      <td>0</td>\n",
       "      <td>924</td>\n",
       "      <td>0</td>\n",
       "    </tr>\n",
       "  </tbody>\n",
       "</table>\n",
       "<p>5 rows × 44 columns</p>\n",
       "</div>"
      ],
      "text/plain": [
       "                     Lts. Rm 305, 307 - 3  Lts. Rm 304, 306 & Hall - 5  \\\n",
       "timestamp                                                                \n",
       "2015-02-23 00:00:00                     0                            0   \n",
       "2015-02-23 00:01:00                     0                            0   \n",
       "2015-02-23 00:02:00                     0                            0   \n",
       "2015-02-23 00:03:00                     0                            0   \n",
       "2015-02-23 00:04:00                     0                            0   \n",
       "\n",
       "                     Lts. 312, 313 - 6  Lts. Rm 318 - 7  Lts. 314, 315 - 8  \\\n",
       "timestamp                                                                    \n",
       "2015-02-23 00:00:00                 60                0                 48   \n",
       "2015-02-23 00:01:00                 60                0                 48   \n",
       "2015-02-23 00:02:00                 60                0                 48   \n",
       "2015-02-23 00:03:00                 60                0                 48   \n",
       "2015-02-23 00:04:00                 60                0                 48   \n",
       "\n",
       "                     Lts. Rm 301 - 9  Lts Rm 316 - 10  Lts Rm 303 - 11  \\\n",
       "timestamp                                                                \n",
       "2015-02-23 00:00:00                0                0               72   \n",
       "2015-02-23 00:01:00                0                0               72   \n",
       "2015-02-23 00:02:00                0                0               72   \n",
       "2015-02-23 00:03:00                0                0               72   \n",
       "2015-02-23 00:04:00                0                0               72   \n",
       "\n",
       "                     Lts. Women's Rest Rm. - 13  Lts. Cor. 319 - 14  \\\n",
       "timestamp                                                             \n",
       "2015-02-23 00:00:00                           0                   0   \n",
       "2015-02-23 00:01:00                           0                   0   \n",
       "2015-02-23 00:02:00                           0                   0   \n",
       "2015-02-23 00:03:00                           0                   0   \n",
       "2015-02-23 00:04:00                           0                   0   \n",
       "\n",
       "                             ...           4th Floor Lighting - 1  \\\n",
       "timestamp                    ...                                    \n",
       "2015-02-23 00:00:00          ...                                0   \n",
       "2015-02-23 00:01:00          ...                                0   \n",
       "2015-02-23 00:02:00          ...                                0   \n",
       "2015-02-23 00:03:00          ...                                0   \n",
       "2015-02-23 00:04:00          ...                                0   \n",
       "\n",
       "                     4th Floor Lights - 2  4th Floor Lighting - 3  \\\n",
       "timestamp                                                           \n",
       "2015-02-23 00:00:00                     0                       0   \n",
       "2015-02-23 00:01:00                     0                       0   \n",
       "2015-02-23 00:02:00                     0                       0   \n",
       "2015-02-23 00:03:00                     0                       0   \n",
       "2015-02-23 00:04:00                     0                       0   \n",
       "\n",
       "                     4th Floor Lighting - 5  Penthouse Lights - 6  \\\n",
       "timestamp                                                           \n",
       "2015-02-23 00:00:00                    1310                   132   \n",
       "2015-02-23 00:01:00                    1314                   132   \n",
       "2015-02-23 00:02:00                    1320                   132   \n",
       "2015-02-23 00:03:00                    1320                   132   \n",
       "2015-02-23 00:04:00                    1320                   132   \n",
       "\n",
       "                     2nd Floor Lighting - 13  2nd Floor Lighting - 15  \\\n",
       "timestamp                                                               \n",
       "2015-02-23 00:00:00                        0                       33   \n",
       "2015-02-23 00:01:00                        0                        0   \n",
       "2015-02-23 00:02:00                        0                      172   \n",
       "2015-02-23 00:03:00                        0                        0   \n",
       "2015-02-23 00:04:00                        0                        0   \n",
       "\n",
       "                     2nd Floor Lighting - 17  2nd Floor Lighting - 18  \\\n",
       "timestamp                                                               \n",
       "2015-02-23 00:00:00                        0                      912   \n",
       "2015-02-23 00:01:00                        0                      918   \n",
       "2015-02-23 00:02:00                        0                      924   \n",
       "2015-02-23 00:03:00                        0                      924   \n",
       "2015-02-23 00:04:00                        0                      924   \n",
       "\n",
       "                     Elevator Lights - 33  \n",
       "timestamp                                  \n",
       "2015-02-23 00:00:00                     0  \n",
       "2015-02-23 00:01:00                     0  \n",
       "2015-02-23 00:02:00                     0  \n",
       "2015-02-23 00:03:00                     0  \n",
       "2015-02-23 00:04:00                     0  \n",
       "\n",
       "[5 rows x 44 columns]"
      ]
     },
     "execution_count": 18,
     "metadata": {},
     "output_type": "execute_result"
    }
   ],
   "source": [
    "light.head()"
   ]
  },
  {
   "cell_type": "markdown",
   "metadata": {},
   "source": [
    "### Finding the Average Hours per day usage:"
   ]
  },
  {
   "cell_type": "code",
   "execution_count": 63,
   "metadata": {
    "collapsed": false
   },
   "outputs": [
    {
     "data": {
      "text/plain": [
       "7"
      ]
     },
     "execution_count": 63,
     "metadata": {},
     "output_type": "execute_result"
    }
   ],
   "source": [
    "# Finding the unique days in the list\n",
    "mm_dd=[str(i.month)+'/'+str(i.dayofweek) for i in light.index] \n",
    "n=len(np.unique(mm_dd))\n",
    "n"
   ]
  },
  {
   "cell_type": "code",
   "execution_count": 68,
   "metadata": {
    "collapsed": false
   },
   "outputs": [
    {
     "data": {
      "text/plain": [
       "6.0734307359307369"
      ]
     },
     "execution_count": 68,
     "metadata": {},
     "output_type": "execute_result"
    }
   ],
   "source": [
    "hrs=[]\n",
    "# Summing up all the non-zero minutes in the dataset\n",
    "for i in light.columns:\n",
    "    hrs.append((24*n-list(light[i].values).count(0)/60)/n)\n",
    "np.mean(hrs)"
   ]
  },
  {
   "cell_type": "code",
   "execution_count": 20,
   "metadata": {
    "collapsed": false
   },
   "outputs": [
    {
     "data": {
      "text/html": [
       "<div>\n",
       "<table border=\"1\" class=\"dataframe\">\n",
       "  <thead>\n",
       "    <tr style=\"text-align: right;\">\n",
       "      <th></th>\n",
       "      <th>BranchName</th>\n",
       "      <th>BreakerPosition</th>\n",
       "      <th>DateStamp</th>\n",
       "      <th>AvgWatt</th>\n",
       "      <th>timestamp</th>\n",
       "      <th>Branch-Panel</th>\n",
       "    </tr>\n",
       "  </thead>\n",
       "  <tbody>\n",
       "    <tr>\n",
       "      <th>0</th>\n",
       "      <td>Rm 311 Copier</td>\n",
       "      <td>1</td>\n",
       "      <td>2/23/2015 12:00:00 AM</td>\n",
       "      <td>0</td>\n",
       "      <td>2015-02-23</td>\n",
       "      <td>Rm 311 Copier - 1</td>\n",
       "    </tr>\n",
       "    <tr>\n",
       "      <th>1</th>\n",
       "      <td>Lts. Rm 305, 307</td>\n",
       "      <td>3</td>\n",
       "      <td>2/23/2015 12:00:00 AM</td>\n",
       "      <td>0</td>\n",
       "      <td>2015-02-23</td>\n",
       "      <td>Lts. Rm 305, 307 - 3</td>\n",
       "    </tr>\n",
       "    <tr>\n",
       "      <th>2</th>\n",
       "      <td>Lts. Rm 304, 306 &amp; Hall</td>\n",
       "      <td>5</td>\n",
       "      <td>2/23/2015 12:00:00 AM</td>\n",
       "      <td>0</td>\n",
       "      <td>2015-02-23</td>\n",
       "      <td>Lts. Rm 304, 306 &amp; Hall - 5</td>\n",
       "    </tr>\n",
       "    <tr>\n",
       "      <th>3</th>\n",
       "      <td>Lts. 312, 313</td>\n",
       "      <td>6</td>\n",
       "      <td>2/23/2015 12:00:00 AM</td>\n",
       "      <td>60</td>\n",
       "      <td>2015-02-23</td>\n",
       "      <td>Lts. 312, 313 - 6</td>\n",
       "    </tr>\n",
       "    <tr>\n",
       "      <th>4</th>\n",
       "      <td>Lts. Rm 318</td>\n",
       "      <td>7</td>\n",
       "      <td>2/23/2015 12:00:00 AM</td>\n",
       "      <td>0</td>\n",
       "      <td>2015-02-23</td>\n",
       "      <td>Lts. Rm 318 - 7</td>\n",
       "    </tr>\n",
       "  </tbody>\n",
       "</table>\n",
       "</div>"
      ],
      "text/plain": [
       "                BranchName  BreakerPosition              DateStamp  AvgWatt  \\\n",
       "0            Rm 311 Copier                1  2/23/2015 12:00:00 AM        0   \n",
       "1         Lts. Rm 305, 307                3  2/23/2015 12:00:00 AM        0   \n",
       "2  Lts. Rm 304, 306 & Hall                5  2/23/2015 12:00:00 AM        0   \n",
       "3            Lts. 312, 313                6  2/23/2015 12:00:00 AM       60   \n",
       "4              Lts. Rm 318                7  2/23/2015 12:00:00 AM        0   \n",
       "\n",
       "   timestamp                 Branch-Panel  \n",
       "0 2015-02-23            Rm 311 Copier - 1  \n",
       "1 2015-02-23         Lts. Rm 305, 307 - 3  \n",
       "2 2015-02-23  Lts. Rm 304, 306 & Hall - 5  \n",
       "3 2015-02-23            Lts. 312, 313 - 6  \n",
       "4 2015-02-23              Lts. Rm 318 - 7  "
      ]
     },
     "execution_count": 20,
     "metadata": {},
     "output_type": "execute_result"
    }
   ],
   "source": [
    "final.head()"
   ]
  },
  {
   "cell_type": "code",
   "execution_count": 69,
   "metadata": {
    "collapsed": true
   },
   "outputs": [],
   "source": [
    "timewise=final.groupby('timestamp')\n",
    "total_minute=timewise['AvgWatt'].sum()"
   ]
  },
  {
   "cell_type": "code",
   "execution_count": 70,
   "metadata": {
    "collapsed": false
   },
   "outputs": [
    {
     "data": {
      "text/plain": [
       "timestamp\n",
       "2015-02-23 00:00:00    13803\n",
       "2015-02-23 00:01:00    13849\n",
       "2015-02-23 00:02:00    14080\n",
       "2015-02-23 00:03:00    13964\n",
       "2015-02-23 00:04:00    14225\n",
       "Name: AvgWatt, dtype: int64"
      ]
     },
     "execution_count": 70,
     "metadata": {},
     "output_type": "execute_result"
    }
   ],
   "source": [
    "total_minute.head()"
   ]
  },
  {
   "cell_type": "code",
   "execution_count": 71,
   "metadata": {
    "collapsed": false
   },
   "outputs": [],
   "source": [
    "light_minute=light.sum(axis=1)"
   ]
  },
  {
   "cell_type": "code",
   "execution_count": 72,
   "metadata": {
    "collapsed": false
   },
   "outputs": [
    {
     "data": {
      "text/plain": [
       "timestamp\n",
       "2015-02-23 00:00:00    3437\n",
       "2015-02-23 00:01:00    3412\n",
       "2015-02-23 00:02:00    3611\n",
       "2015-02-23 00:03:00    3442\n",
       "2015-02-23 00:04:00    3439\n",
       "dtype: float64"
      ]
     },
     "execution_count": 72,
     "metadata": {},
     "output_type": "execute_result"
    }
   ],
   "source": [
    "light_minute.head()"
   ]
  },
  {
   "cell_type": "code",
   "execution_count": 73,
   "metadata": {
    "collapsed": true
   },
   "outputs": [],
   "source": [
    "light_each_sum=light.sum()"
   ]
  },
  {
   "cell_type": "code",
   "execution_count": null,
   "metadata": {
    "collapsed": true
   },
   "outputs": [],
   "source": []
  },
  {
   "cell_type": "code",
   "execution_count": 74,
   "metadata": {
    "collapsed": true
   },
   "outputs": [],
   "source": [
    "# Storing all the non-zero total lighting consumption in the Data-frame \n",
    "light_each_sum=light_each_sum[light_each_sum!=0]"
   ]
  },
  {
   "cell_type": "code",
   "execution_count": 28,
   "metadata": {
    "collapsed": false
   },
   "outputs": [],
   "source": [
    "df=light"
   ]
  },
  {
   "cell_type": "code",
   "execution_count": 29,
   "metadata": {
    "collapsed": false
   },
   "outputs": [
    {
     "data": {
      "text/plain": [
       "Lts. 312, 313 - 6               875920\n",
       "Lts. 314, 315 - 8               828511\n",
       "Lts. Rm 301 - 9                 233647\n",
       "Lts Rm 303 - 11                 557209\n",
       "Lts. Women's Rest Rm. - 13       26245\n",
       "Lts. Stairway - 22             3310723\n",
       "Restroom Lts. - 23             2233970\n",
       "404 Lts. - 28                   689182\n",
       "Lights Stairway - 21             25766\n",
       "Lobby Bathroom Lights - 17     3963827\n",
       "4th Floor Lighting - 1         2193961\n",
       "4th Floor Lights - 2           1211437\n",
       "4th Floor Lighting - 3         2888918\n",
       "4th Floor Lighting - 5        12094625\n",
       "Penthouse Lights - 6            790393\n",
       "2nd Floor Lighting - 13        5341399\n",
       "2nd Floor Lighting - 15         782383\n",
       "2nd Floor Lighting - 17        2751082\n",
       "2nd Floor Lighting - 18       12052177\n",
       "Elevator Lights - 33             93084\n",
       "dtype: float64"
      ]
     },
     "execution_count": 29,
     "metadata": {},
     "output_type": "execute_result"
    }
   ],
   "source": [
    "light_each_sum"
   ]
  },
  {
   "cell_type": "code",
   "execution_count": 30,
   "metadata": {
    "collapsed": false
   },
   "outputs": [],
   "source": [
    "idd=df.columns[light.sum()!=0]"
   ]
  },
  {
   "cell_type": "code",
   "execution_count": 31,
   "metadata": {
    "collapsed": false,
    "scrolled": true
   },
   "outputs": [],
   "source": [
    "only_on=df.loc[:,idd]"
   ]
  },
  {
   "cell_type": "code",
   "execution_count": 77,
   "metadata": {
    "collapsed": true
   },
   "outputs": [],
   "source": [
    "result = pd.concat([total_minute, light_minute,only_on], axis=1, join_axes=[light_minute.index])"
   ]
  },
  {
   "cell_type": "code",
   "execution_count": 78,
   "metadata": {
    "collapsed": false
   },
   "outputs": [
    {
     "data": {
      "text/html": [
       "<div>\n",
       "<table border=\"1\" class=\"dataframe\">\n",
       "  <thead>\n",
       "    <tr style=\"text-align: right;\">\n",
       "      <th></th>\n",
       "      <th>AvgWatt</th>\n",
       "      <th>0</th>\n",
       "      <th>Lts. 312, 313 - 6</th>\n",
       "      <th>Lts. 314, 315 - 8</th>\n",
       "      <th>Lts. Rm 301 - 9</th>\n",
       "      <th>Lts Rm 303 - 11</th>\n",
       "      <th>Lts. Women's Rest Rm. - 13</th>\n",
       "      <th>Lts. Stairway - 22</th>\n",
       "      <th>Restroom Lts. - 23</th>\n",
       "      <th>404 Lts. - 28</th>\n",
       "      <th>...</th>\n",
       "      <th>4th Floor Lighting - 1</th>\n",
       "      <th>4th Floor Lights - 2</th>\n",
       "      <th>4th Floor Lighting - 3</th>\n",
       "      <th>4th Floor Lighting - 5</th>\n",
       "      <th>Penthouse Lights - 6</th>\n",
       "      <th>2nd Floor Lighting - 13</th>\n",
       "      <th>2nd Floor Lighting - 15</th>\n",
       "      <th>2nd Floor Lighting - 17</th>\n",
       "      <th>2nd Floor Lighting - 18</th>\n",
       "      <th>Elevator Lights - 33</th>\n",
       "    </tr>\n",
       "    <tr>\n",
       "      <th>timestamp</th>\n",
       "      <th></th>\n",
       "      <th></th>\n",
       "      <th></th>\n",
       "      <th></th>\n",
       "      <th></th>\n",
       "      <th></th>\n",
       "      <th></th>\n",
       "      <th></th>\n",
       "      <th></th>\n",
       "      <th></th>\n",
       "      <th></th>\n",
       "      <th></th>\n",
       "      <th></th>\n",
       "      <th></th>\n",
       "      <th></th>\n",
       "      <th></th>\n",
       "      <th></th>\n",
       "      <th></th>\n",
       "      <th></th>\n",
       "      <th></th>\n",
       "      <th></th>\n",
       "    </tr>\n",
       "  </thead>\n",
       "  <tbody>\n",
       "    <tr>\n",
       "      <th>2015-02-23 00:00:00</th>\n",
       "      <td>13803</td>\n",
       "      <td>3437</td>\n",
       "      <td>60</td>\n",
       "      <td>48</td>\n",
       "      <td>0</td>\n",
       "      <td>72</td>\n",
       "      <td>0</td>\n",
       "      <td>324</td>\n",
       "      <td>126</td>\n",
       "      <td>0</td>\n",
       "      <td>...</td>\n",
       "      <td>0</td>\n",
       "      <td>0</td>\n",
       "      <td>0</td>\n",
       "      <td>1310</td>\n",
       "      <td>132</td>\n",
       "      <td>0</td>\n",
       "      <td>33</td>\n",
       "      <td>0</td>\n",
       "      <td>912</td>\n",
       "      <td>0</td>\n",
       "    </tr>\n",
       "    <tr>\n",
       "      <th>2015-02-23 00:01:00</th>\n",
       "      <td>13849</td>\n",
       "      <td>3412</td>\n",
       "      <td>60</td>\n",
       "      <td>48</td>\n",
       "      <td>0</td>\n",
       "      <td>72</td>\n",
       "      <td>0</td>\n",
       "      <td>324</td>\n",
       "      <td>124</td>\n",
       "      <td>0</td>\n",
       "      <td>...</td>\n",
       "      <td>0</td>\n",
       "      <td>0</td>\n",
       "      <td>0</td>\n",
       "      <td>1314</td>\n",
       "      <td>132</td>\n",
       "      <td>0</td>\n",
       "      <td>0</td>\n",
       "      <td>0</td>\n",
       "      <td>918</td>\n",
       "      <td>0</td>\n",
       "    </tr>\n",
       "    <tr>\n",
       "      <th>2015-02-23 00:02:00</th>\n",
       "      <td>14080</td>\n",
       "      <td>3611</td>\n",
       "      <td>60</td>\n",
       "      <td>48</td>\n",
       "      <td>0</td>\n",
       "      <td>72</td>\n",
       "      <td>0</td>\n",
       "      <td>335</td>\n",
       "      <td>128</td>\n",
       "      <td>0</td>\n",
       "      <td>...</td>\n",
       "      <td>0</td>\n",
       "      <td>0</td>\n",
       "      <td>0</td>\n",
       "      <td>1320</td>\n",
       "      <td>132</td>\n",
       "      <td>0</td>\n",
       "      <td>172</td>\n",
       "      <td>0</td>\n",
       "      <td>924</td>\n",
       "      <td>0</td>\n",
       "    </tr>\n",
       "    <tr>\n",
       "      <th>2015-02-23 00:03:00</th>\n",
       "      <td>13964</td>\n",
       "      <td>3442</td>\n",
       "      <td>60</td>\n",
       "      <td>48</td>\n",
       "      <td>0</td>\n",
       "      <td>72</td>\n",
       "      <td>0</td>\n",
       "      <td>336</td>\n",
       "      <td>130</td>\n",
       "      <td>0</td>\n",
       "      <td>...</td>\n",
       "      <td>0</td>\n",
       "      <td>0</td>\n",
       "      <td>0</td>\n",
       "      <td>1320</td>\n",
       "      <td>132</td>\n",
       "      <td>0</td>\n",
       "      <td>0</td>\n",
       "      <td>0</td>\n",
       "      <td>924</td>\n",
       "      <td>0</td>\n",
       "    </tr>\n",
       "    <tr>\n",
       "      <th>2015-02-23 00:04:00</th>\n",
       "      <td>14225</td>\n",
       "      <td>3439</td>\n",
       "      <td>60</td>\n",
       "      <td>48</td>\n",
       "      <td>0</td>\n",
       "      <td>72</td>\n",
       "      <td>0</td>\n",
       "      <td>336</td>\n",
       "      <td>127</td>\n",
       "      <td>0</td>\n",
       "      <td>...</td>\n",
       "      <td>0</td>\n",
       "      <td>0</td>\n",
       "      <td>0</td>\n",
       "      <td>1320</td>\n",
       "      <td>132</td>\n",
       "      <td>0</td>\n",
       "      <td>0</td>\n",
       "      <td>0</td>\n",
       "      <td>924</td>\n",
       "      <td>0</td>\n",
       "    </tr>\n",
       "  </tbody>\n",
       "</table>\n",
       "<p>5 rows × 22 columns</p>\n",
       "</div>"
      ],
      "text/plain": [
       "                     AvgWatt     0  Lts. 312, 313 - 6  Lts. 314, 315 - 8  \\\n",
       "timestamp                                                                  \n",
       "2015-02-23 00:00:00    13803  3437                 60                 48   \n",
       "2015-02-23 00:01:00    13849  3412                 60                 48   \n",
       "2015-02-23 00:02:00    14080  3611                 60                 48   \n",
       "2015-02-23 00:03:00    13964  3442                 60                 48   \n",
       "2015-02-23 00:04:00    14225  3439                 60                 48   \n",
       "\n",
       "                     Lts. Rm 301 - 9  Lts Rm 303 - 11  \\\n",
       "timestamp                                               \n",
       "2015-02-23 00:00:00                0               72   \n",
       "2015-02-23 00:01:00                0               72   \n",
       "2015-02-23 00:02:00                0               72   \n",
       "2015-02-23 00:03:00                0               72   \n",
       "2015-02-23 00:04:00                0               72   \n",
       "\n",
       "                     Lts. Women's Rest Rm. - 13  Lts. Stairway - 22  \\\n",
       "timestamp                                                             \n",
       "2015-02-23 00:00:00                           0                 324   \n",
       "2015-02-23 00:01:00                           0                 324   \n",
       "2015-02-23 00:02:00                           0                 335   \n",
       "2015-02-23 00:03:00                           0                 336   \n",
       "2015-02-23 00:04:00                           0                 336   \n",
       "\n",
       "                     Restroom Lts. - 23  404 Lts. - 28          ...           \\\n",
       "timestamp                                                       ...            \n",
       "2015-02-23 00:00:00                 126              0          ...            \n",
       "2015-02-23 00:01:00                 124              0          ...            \n",
       "2015-02-23 00:02:00                 128              0          ...            \n",
       "2015-02-23 00:03:00                 130              0          ...            \n",
       "2015-02-23 00:04:00                 127              0          ...            \n",
       "\n",
       "                     4th Floor Lighting - 1  4th Floor Lights - 2  \\\n",
       "timestamp                                                           \n",
       "2015-02-23 00:00:00                       0                     0   \n",
       "2015-02-23 00:01:00                       0                     0   \n",
       "2015-02-23 00:02:00                       0                     0   \n",
       "2015-02-23 00:03:00                       0                     0   \n",
       "2015-02-23 00:04:00                       0                     0   \n",
       "\n",
       "                     4th Floor Lighting - 3  4th Floor Lighting - 5  \\\n",
       "timestamp                                                             \n",
       "2015-02-23 00:00:00                       0                    1310   \n",
       "2015-02-23 00:01:00                       0                    1314   \n",
       "2015-02-23 00:02:00                       0                    1320   \n",
       "2015-02-23 00:03:00                       0                    1320   \n",
       "2015-02-23 00:04:00                       0                    1320   \n",
       "\n",
       "                     Penthouse Lights - 6  2nd Floor Lighting - 13  \\\n",
       "timestamp                                                            \n",
       "2015-02-23 00:00:00                   132                        0   \n",
       "2015-02-23 00:01:00                   132                        0   \n",
       "2015-02-23 00:02:00                   132                        0   \n",
       "2015-02-23 00:03:00                   132                        0   \n",
       "2015-02-23 00:04:00                   132                        0   \n",
       "\n",
       "                     2nd Floor Lighting - 15  2nd Floor Lighting - 17  \\\n",
       "timestamp                                                               \n",
       "2015-02-23 00:00:00                       33                        0   \n",
       "2015-02-23 00:01:00                        0                        0   \n",
       "2015-02-23 00:02:00                      172                        0   \n",
       "2015-02-23 00:03:00                        0                        0   \n",
       "2015-02-23 00:04:00                        0                        0   \n",
       "\n",
       "                     2nd Floor Lighting - 18  Elevator Lights - 33  \n",
       "timestamp                                                           \n",
       "2015-02-23 00:00:00                      912                     0  \n",
       "2015-02-23 00:01:00                      918                     0  \n",
       "2015-02-23 00:02:00                      924                     0  \n",
       "2015-02-23 00:03:00                      924                     0  \n",
       "2015-02-23 00:04:00                      924                     0  \n",
       "\n",
       "[5 rows x 22 columns]"
      ]
     },
     "execution_count": 78,
     "metadata": {},
     "output_type": "execute_result"
    }
   ],
   "source": [
    "result.head()"
   ]
  },
  {
   "cell_type": "code",
   "execution_count": 79,
   "metadata": {
    "collapsed": false
   },
   "outputs": [],
   "source": [
    "# Renaming the First two columns\n",
    "names=['Total','Lighting']\n",
    "for i in result.columns[2:]:\n",
    "    names.append(i)\n",
    "result.columns=names"
   ]
  },
  {
   "cell_type": "code",
   "execution_count": 80,
   "metadata": {
    "collapsed": false
   },
   "outputs": [
    {
     "data": {
      "text/html": [
       "<div>\n",
       "<table border=\"1\" class=\"dataframe\">\n",
       "  <thead>\n",
       "    <tr style=\"text-align: right;\">\n",
       "      <th></th>\n",
       "      <th>Total</th>\n",
       "      <th>Lighting</th>\n",
       "      <th>Lts. 312, 313 - 6</th>\n",
       "      <th>Lts. 314, 315 - 8</th>\n",
       "      <th>Lts. Rm 301 - 9</th>\n",
       "      <th>Lts Rm 303 - 11</th>\n",
       "      <th>Lts. Women's Rest Rm. - 13</th>\n",
       "      <th>Lts. Stairway - 22</th>\n",
       "      <th>Restroom Lts. - 23</th>\n",
       "      <th>404 Lts. - 28</th>\n",
       "      <th>...</th>\n",
       "      <th>4th Floor Lighting - 1</th>\n",
       "      <th>4th Floor Lights - 2</th>\n",
       "      <th>4th Floor Lighting - 3</th>\n",
       "      <th>4th Floor Lighting - 5</th>\n",
       "      <th>Penthouse Lights - 6</th>\n",
       "      <th>2nd Floor Lighting - 13</th>\n",
       "      <th>2nd Floor Lighting - 15</th>\n",
       "      <th>2nd Floor Lighting - 17</th>\n",
       "      <th>2nd Floor Lighting - 18</th>\n",
       "      <th>Elevator Lights - 33</th>\n",
       "    </tr>\n",
       "    <tr>\n",
       "      <th>timestamp</th>\n",
       "      <th></th>\n",
       "      <th></th>\n",
       "      <th></th>\n",
       "      <th></th>\n",
       "      <th></th>\n",
       "      <th></th>\n",
       "      <th></th>\n",
       "      <th></th>\n",
       "      <th></th>\n",
       "      <th></th>\n",
       "      <th></th>\n",
       "      <th></th>\n",
       "      <th></th>\n",
       "      <th></th>\n",
       "      <th></th>\n",
       "      <th></th>\n",
       "      <th></th>\n",
       "      <th></th>\n",
       "      <th></th>\n",
       "      <th></th>\n",
       "      <th></th>\n",
       "    </tr>\n",
       "  </thead>\n",
       "  <tbody>\n",
       "    <tr>\n",
       "      <th>2015-02-23 00:00:00</th>\n",
       "      <td>13803</td>\n",
       "      <td>3437</td>\n",
       "      <td>60</td>\n",
       "      <td>48</td>\n",
       "      <td>0</td>\n",
       "      <td>72</td>\n",
       "      <td>0</td>\n",
       "      <td>324</td>\n",
       "      <td>126</td>\n",
       "      <td>0</td>\n",
       "      <td>...</td>\n",
       "      <td>0</td>\n",
       "      <td>0</td>\n",
       "      <td>0</td>\n",
       "      <td>1310</td>\n",
       "      <td>132</td>\n",
       "      <td>0</td>\n",
       "      <td>33</td>\n",
       "      <td>0</td>\n",
       "      <td>912</td>\n",
       "      <td>0</td>\n",
       "    </tr>\n",
       "    <tr>\n",
       "      <th>2015-02-23 00:01:00</th>\n",
       "      <td>13849</td>\n",
       "      <td>3412</td>\n",
       "      <td>60</td>\n",
       "      <td>48</td>\n",
       "      <td>0</td>\n",
       "      <td>72</td>\n",
       "      <td>0</td>\n",
       "      <td>324</td>\n",
       "      <td>124</td>\n",
       "      <td>0</td>\n",
       "      <td>...</td>\n",
       "      <td>0</td>\n",
       "      <td>0</td>\n",
       "      <td>0</td>\n",
       "      <td>1314</td>\n",
       "      <td>132</td>\n",
       "      <td>0</td>\n",
       "      <td>0</td>\n",
       "      <td>0</td>\n",
       "      <td>918</td>\n",
       "      <td>0</td>\n",
       "    </tr>\n",
       "    <tr>\n",
       "      <th>2015-02-23 00:02:00</th>\n",
       "      <td>14080</td>\n",
       "      <td>3611</td>\n",
       "      <td>60</td>\n",
       "      <td>48</td>\n",
       "      <td>0</td>\n",
       "      <td>72</td>\n",
       "      <td>0</td>\n",
       "      <td>335</td>\n",
       "      <td>128</td>\n",
       "      <td>0</td>\n",
       "      <td>...</td>\n",
       "      <td>0</td>\n",
       "      <td>0</td>\n",
       "      <td>0</td>\n",
       "      <td>1320</td>\n",
       "      <td>132</td>\n",
       "      <td>0</td>\n",
       "      <td>172</td>\n",
       "      <td>0</td>\n",
       "      <td>924</td>\n",
       "      <td>0</td>\n",
       "    </tr>\n",
       "    <tr>\n",
       "      <th>2015-02-23 00:03:00</th>\n",
       "      <td>13964</td>\n",
       "      <td>3442</td>\n",
       "      <td>60</td>\n",
       "      <td>48</td>\n",
       "      <td>0</td>\n",
       "      <td>72</td>\n",
       "      <td>0</td>\n",
       "      <td>336</td>\n",
       "      <td>130</td>\n",
       "      <td>0</td>\n",
       "      <td>...</td>\n",
       "      <td>0</td>\n",
       "      <td>0</td>\n",
       "      <td>0</td>\n",
       "      <td>1320</td>\n",
       "      <td>132</td>\n",
       "      <td>0</td>\n",
       "      <td>0</td>\n",
       "      <td>0</td>\n",
       "      <td>924</td>\n",
       "      <td>0</td>\n",
       "    </tr>\n",
       "    <tr>\n",
       "      <th>2015-02-23 00:04:00</th>\n",
       "      <td>14225</td>\n",
       "      <td>3439</td>\n",
       "      <td>60</td>\n",
       "      <td>48</td>\n",
       "      <td>0</td>\n",
       "      <td>72</td>\n",
       "      <td>0</td>\n",
       "      <td>336</td>\n",
       "      <td>127</td>\n",
       "      <td>0</td>\n",
       "      <td>...</td>\n",
       "      <td>0</td>\n",
       "      <td>0</td>\n",
       "      <td>0</td>\n",
       "      <td>1320</td>\n",
       "      <td>132</td>\n",
       "      <td>0</td>\n",
       "      <td>0</td>\n",
       "      <td>0</td>\n",
       "      <td>924</td>\n",
       "      <td>0</td>\n",
       "    </tr>\n",
       "  </tbody>\n",
       "</table>\n",
       "<p>5 rows × 22 columns</p>\n",
       "</div>"
      ],
      "text/plain": [
       "                     Total  Lighting  Lts. 312, 313 - 6  Lts. 314, 315 - 8  \\\n",
       "timestamp                                                                    \n",
       "2015-02-23 00:00:00  13803      3437                 60                 48   \n",
       "2015-02-23 00:01:00  13849      3412                 60                 48   \n",
       "2015-02-23 00:02:00  14080      3611                 60                 48   \n",
       "2015-02-23 00:03:00  13964      3442                 60                 48   \n",
       "2015-02-23 00:04:00  14225      3439                 60                 48   \n",
       "\n",
       "                     Lts. Rm 301 - 9  Lts Rm 303 - 11  \\\n",
       "timestamp                                               \n",
       "2015-02-23 00:00:00                0               72   \n",
       "2015-02-23 00:01:00                0               72   \n",
       "2015-02-23 00:02:00                0               72   \n",
       "2015-02-23 00:03:00                0               72   \n",
       "2015-02-23 00:04:00                0               72   \n",
       "\n",
       "                     Lts. Women's Rest Rm. - 13  Lts. Stairway - 22  \\\n",
       "timestamp                                                             \n",
       "2015-02-23 00:00:00                           0                 324   \n",
       "2015-02-23 00:01:00                           0                 324   \n",
       "2015-02-23 00:02:00                           0                 335   \n",
       "2015-02-23 00:03:00                           0                 336   \n",
       "2015-02-23 00:04:00                           0                 336   \n",
       "\n",
       "                     Restroom Lts. - 23  404 Lts. - 28          ...           \\\n",
       "timestamp                                                       ...            \n",
       "2015-02-23 00:00:00                 126              0          ...            \n",
       "2015-02-23 00:01:00                 124              0          ...            \n",
       "2015-02-23 00:02:00                 128              0          ...            \n",
       "2015-02-23 00:03:00                 130              0          ...            \n",
       "2015-02-23 00:04:00                 127              0          ...            \n",
       "\n",
       "                     4th Floor Lighting - 1  4th Floor Lights - 2  \\\n",
       "timestamp                                                           \n",
       "2015-02-23 00:00:00                       0                     0   \n",
       "2015-02-23 00:01:00                       0                     0   \n",
       "2015-02-23 00:02:00                       0                     0   \n",
       "2015-02-23 00:03:00                       0                     0   \n",
       "2015-02-23 00:04:00                       0                     0   \n",
       "\n",
       "                     4th Floor Lighting - 3  4th Floor Lighting - 5  \\\n",
       "timestamp                                                             \n",
       "2015-02-23 00:00:00                       0                    1310   \n",
       "2015-02-23 00:01:00                       0                    1314   \n",
       "2015-02-23 00:02:00                       0                    1320   \n",
       "2015-02-23 00:03:00                       0                    1320   \n",
       "2015-02-23 00:04:00                       0                    1320   \n",
       "\n",
       "                     Penthouse Lights - 6  2nd Floor Lighting - 13  \\\n",
       "timestamp                                                            \n",
       "2015-02-23 00:00:00                   132                        0   \n",
       "2015-02-23 00:01:00                   132                        0   \n",
       "2015-02-23 00:02:00                   132                        0   \n",
       "2015-02-23 00:03:00                   132                        0   \n",
       "2015-02-23 00:04:00                   132                        0   \n",
       "\n",
       "                     2nd Floor Lighting - 15  2nd Floor Lighting - 17  \\\n",
       "timestamp                                                               \n",
       "2015-02-23 00:00:00                       33                        0   \n",
       "2015-02-23 00:01:00                        0                        0   \n",
       "2015-02-23 00:02:00                      172                        0   \n",
       "2015-02-23 00:03:00                        0                        0   \n",
       "2015-02-23 00:04:00                        0                        0   \n",
       "\n",
       "                     2nd Floor Lighting - 18  Elevator Lights - 33  \n",
       "timestamp                                                           \n",
       "2015-02-23 00:00:00                      912                     0  \n",
       "2015-02-23 00:01:00                      918                     0  \n",
       "2015-02-23 00:02:00                      924                     0  \n",
       "2015-02-23 00:03:00                      924                     0  \n",
       "2015-02-23 00:04:00                      924                     0  \n",
       "\n",
       "[5 rows x 22 columns]"
      ]
     },
     "execution_count": 80,
     "metadata": {},
     "output_type": "execute_result"
    }
   ],
   "source": [
    "result.head()"
   ]
  },
  {
   "cell_type": "code",
   "execution_count": 81,
   "metadata": {
    "collapsed": false
   },
   "outputs": [
    {
     "data": {
      "text/plain": [
       "<matplotlib.text.Text at 0x10f93dc18>"
      ]
     },
     "execution_count": 81,
     "metadata": {},
     "output_type": "execute_result"
    },
    {
     "data": {
      "image/png": "[encoded data removed]",
      "text/plain": [
       "<matplotlib.figure.Figure at 0x10edcfb00>"
      ]
     },
     "metadata": {},
     "output_type": "display_data"
    }
   ],
   "source": [
    "ax=result[['Total','Lighting']].plot(figsize=(20,10),lw=1.5,markersize=15,title='Total vs Lighting')\n",
    "ax.set_ylabel('Power in Watts')"
   ]
  },
  {
   "cell_type": "markdown",
   "metadata": {},
   "source": [
    "### Interactive Plots:"
   ]
  },
  {
   "cell_type": "code",
   "execution_count": 38,
   "metadata": {
    "collapsed": true
   },
   "outputs": [],
   "source": [
    "import plotly.plotly as py\n",
    "import plotly.graph_objs as go"
   ]
  },
  {
   "cell_type": "code",
   "execution_count": 39,
   "metadata": {
    "collapsed": false
   },
   "outputs": [
    {
     "data": {
      "text/html": [
       "<iframe id=\"igraph\" scrolling=\"no\" style=\"border:none;\"seamless=\"seamless\" src=\"https://plot.ly/~njhabakh/205.embed\" height=\"525px\" width=\"100%\"></iframe>"
      ],
      "text/plain": [
       "<plotly.tools.PlotlyDisplay object>"
      ]
     },
     "execution_count": 39,
     "metadata": {},
     "output_type": "execute_result"
    }
   ],
   "source": [
    "trace1 = go.Scatter(\n",
    "    x = result.index,\n",
    "    y = result.Lighting.values,\n",
    "    name = 'Lighting',\n",
    "    \n",
    "        line = dict(\n",
    "        color=('rgb(204, 204, 204,0.1)'),width = 1.5,)\n",
    ")\n",
    "trace2 = go.Scatter(\n",
    "    x = result.index,\n",
    "    y = result.Total.values,\n",
    "    name = 'Total',\n",
    "    line = dict(\n",
    "        color = ('rgb(102, 102, 102)'),width = 1.5,)\n",
    ")\n",
    "layout=dict(title = 'Interactive profile',xaxis=dict(title='Time'),yaxis=dict(title='Watts'),)\n",
    "\n",
    "data = [trace1,trace2]\n",
    "fig=dict(data=data,layout=layout)\n",
    "py.iplot(fig,filename='1.A')"
   ]
  },
  {
   "cell_type": "code",
   "execution_count": 40,
   "metadata": {
    "collapsed": false
   },
   "outputs": [
    {
     "name": "stdout",
     "output_type": "stream",
     "text": [
      "The draw time for this plot will be slow for all clients.\n"
     ]
    },
    {
     "name": "stderr",
     "output_type": "stream",
     "text": [
      "/Users/narenjhabakh/anaconda/lib/python3.4/site-packages/plotly/plotly/plotly.py:1411: UserWarning:\n",
      "\n",
      "Estimated Draw Time Too Long\n",
      "\n"
     ]
    },
    {
     "data": {
      "text/html": [
       "<iframe id=\"igraph\" scrolling=\"no\" style=\"border:none;\"seamless=\"seamless\" src=\"https://plot.ly/~njhabakh/207.embed\" height=\"525px\" width=\"100%\"></iframe>"
      ],
      "text/plain": [
       "<plotly.tools.PlotlyDisplay object>"
      ]
     },
     "execution_count": 40,
     "metadata": {},
     "output_type": "execute_result"
    }
   ],
   "source": [
    "trace=[]\n",
    "for k,i in enumerate(result.columns[1:]):\n",
    "    trace.append(go.Scatter(\n",
    "    x = result.index,\n",
    "    y = result[i].values,\n",
    "    name = i,\n",
    "    line = dict(\n",
    "    color = ('rgb(102+k, 102+k, 102+k)'),width = 1.2,)\n",
    "        )\n",
    "                )\n",
    "    \n",
    "\n",
    "layout=dict(title = 'Interactive profile',xaxis=dict(title='Time'),yaxis=dict(title='Watts'),)\n",
    "\n",
    "data = trace\n",
    "fig=dict(data=data,layout=layout)\n",
    "py.iplot(fig,filename='1.B')"
   ]
  }
 ],
 "metadata": {
  "kernelspec": {
   "display_name": "Python 3",
   "language": "python",
   "name": "python3"
  },
  "language_info": {
   "codemirror_mode": {
    "name": "ipython",
    "version": 3
   },
   "file_extension": ".py",
   "mimetype": "text/x-python",
   "name": "python",
   "nbconvert_exporter": "python",
   "pygments_lexer": "ipython3",
   "version": "3.4.3"
  }
 },
 "nbformat": 4,
 "nbformat_minor": 0
}
